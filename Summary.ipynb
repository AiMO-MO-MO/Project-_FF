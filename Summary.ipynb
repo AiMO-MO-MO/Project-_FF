{
 "cells": [
  {
   "cell_type": "markdown",
   "metadata": {},
   "source": [
    "Analysis of Data Sources:"
   ]
  },
  {
   "cell_type": "code",
   "execution_count": 74,
   "metadata": {},
   "outputs": [
    {
     "name": "stdout",
     "output_type": "stream",
     "text": [
      "Requirement already satisfied: seaborn in c:\\users\\mjeow\\anaconda3\\lib\\site-packages (0.12.2)\n",
      "Requirement already satisfied: numpy!=1.24.0,>=1.17 in c:\\users\\mjeow\\anaconda3\\lib\\site-packages (from seaborn) (1.24.3)\n",
      "Requirement already satisfied: pandas>=0.25 in c:\\users\\mjeow\\anaconda3\\lib\\site-packages (from seaborn) (2.1.1)\n",
      "Requirement already satisfied: matplotlib!=3.6.1,>=3.1 in c:\\users\\mjeow\\anaconda3\\lib\\site-packages (from seaborn) (3.8.0)\n",
      "Requirement already satisfied: contourpy>=1.0.1 in c:\\users\\mjeow\\anaconda3\\lib\\site-packages (from matplotlib!=3.6.1,>=3.1->seaborn) (1.0.5)\n",
      "Requirement already satisfied: cycler>=0.10 in c:\\users\\mjeow\\anaconda3\\lib\\site-packages (from matplotlib!=3.6.1,>=3.1->seaborn) (0.11.0)\n",
      "Requirement already satisfied: fonttools>=4.22.0 in c:\\users\\mjeow\\anaconda3\\lib\\site-packages (from matplotlib!=3.6.1,>=3.1->seaborn) (4.25.0)\n",
      "Requirement already satisfied: kiwisolver>=1.0.1 in c:\\users\\mjeow\\anaconda3\\lib\\site-packages (from matplotlib!=3.6.1,>=3.1->seaborn) (1.4.4)\n",
      "Requirement already satisfied: packaging>=20.0 in c:\\users\\mjeow\\anaconda3\\lib\\site-packages (from matplotlib!=3.6.1,>=3.1->seaborn) (23.1)\n",
      "Requirement already satisfied: pillow>=6.2.0 in c:\\users\\mjeow\\anaconda3\\lib\\site-packages (from matplotlib!=3.6.1,>=3.1->seaborn) (10.0.1)\n",
      "Requirement already satisfied: pyparsing>=2.3.1 in c:\\users\\mjeow\\anaconda3\\lib\\site-packages (from matplotlib!=3.6.1,>=3.1->seaborn) (3.0.9)\n",
      "Requirement already satisfied: python-dateutil>=2.7 in c:\\users\\mjeow\\anaconda3\\lib\\site-packages (from matplotlib!=3.6.1,>=3.1->seaborn) (2.8.2)\n",
      "Requirement already satisfied: pytz>=2020.1 in c:\\users\\mjeow\\anaconda3\\lib\\site-packages (from pandas>=0.25->seaborn) (2023.3.post1)\n",
      "Requirement already satisfied: tzdata>=2022.1 in c:\\users\\mjeow\\anaconda3\\lib\\site-packages (from pandas>=0.25->seaborn) (2023.3)\n",
      "Requirement already satisfied: six>=1.5 in c:\\users\\mjeow\\anaconda3\\lib\\site-packages (from python-dateutil>=2.7->matplotlib!=3.6.1,>=3.1->seaborn) (1.16.0)\n"
     ]
    }
   ],
   "source": [
    "!pip install seaborn\n"
   ]
  },
  {
   "cell_type": "code",
   "execution_count": 75,
   "metadata": {},
   "outputs": [],
   "source": [
    "import pandas as pd\n",
    "import matplotlib.pyplot as plt\n",
    "import scipy.stats as st\n",
    "import numpy as np"
   ]
  },
  {
   "cell_type": "code",
   "execution_count": 76,
   "metadata": {},
   "outputs": [
    {
     "data": {
      "text/html": [
       "<div>\n",
       "<style scoped>\n",
       "    .dataframe tbody tr th:only-of-type {\n",
       "        vertical-align: middle;\n",
       "    }\n",
       "\n",
       "    .dataframe tbody tr th {\n",
       "        vertical-align: top;\n",
       "    }\n",
       "\n",
       "    .dataframe thead th {\n",
       "        text-align: right;\n",
       "    }\n",
       "</style>\n",
       "<table border=\"1\" class=\"dataframe\">\n",
       "  <thead>\n",
       "    <tr style=\"text-align: right;\">\n",
       "      <th></th>\n",
       "      <th>Unnamed: 0</th>\n",
       "      <th>Player</th>\n",
       "      <th>Pos</th>\n",
       "      <th>School</th>\n",
       "      <th>Ht</th>\n",
       "      <th>Wt</th>\n",
       "      <th>40yd</th>\n",
       "      <th>Vertical</th>\n",
       "      <th>Bench</th>\n",
       "      <th>Broad Jump</th>\n",
       "      <th>3Cone</th>\n",
       "      <th>Shuttle</th>\n",
       "    </tr>\n",
       "  </thead>\n",
       "  <tbody>\n",
       "    <tr>\n",
       "      <th>0</th>\n",
       "      <td>0</td>\n",
       "      <td>Khalid Abdullah</td>\n",
       "      <td>OLB</td>\n",
       "      <td>Mars Hill</td>\n",
       "      <td>6-2</td>\n",
       "      <td>227.0</td>\n",
       "      <td>4.61</td>\n",
       "      <td>36.5</td>\n",
       "      <td>26.0</td>\n",
       "      <td>126.0</td>\n",
       "      <td>7.13</td>\n",
       "      <td>4.25</td>\n",
       "    </tr>\n",
       "    <tr>\n",
       "      <th>1</th>\n",
       "      <td>1</td>\n",
       "      <td>Anthony Adams</td>\n",
       "      <td>DT</td>\n",
       "      <td>Penn State</td>\n",
       "      <td>6-0</td>\n",
       "      <td>299.0</td>\n",
       "      <td>5.13</td>\n",
       "      <td>30.5</td>\n",
       "      <td>0.0</td>\n",
       "      <td>109.0</td>\n",
       "      <td>7.68</td>\n",
       "      <td>4.59</td>\n",
       "    </tr>\n",
       "    <tr>\n",
       "      <th>2</th>\n",
       "      <td>2</td>\n",
       "      <td>Sam Aiken</td>\n",
       "      <td>WR</td>\n",
       "      <td>North Carolina</td>\n",
       "      <td>6-2</td>\n",
       "      <td>209.0</td>\n",
       "      <td>4.59</td>\n",
       "      <td>39.5</td>\n",
       "      <td>0.0</td>\n",
       "      <td>121.0</td>\n",
       "      <td>7.22</td>\n",
       "      <td>0.00</td>\n",
       "    </tr>\n",
       "    <tr>\n",
       "      <th>3</th>\n",
       "      <td>3</td>\n",
       "      <td>Paul Arnold</td>\n",
       "      <td>WR</td>\n",
       "      <td>Washington</td>\n",
       "      <td>6-1</td>\n",
       "      <td>213.0</td>\n",
       "      <td>4.53</td>\n",
       "      <td>40.5</td>\n",
       "      <td>0.0</td>\n",
       "      <td>131.0</td>\n",
       "      <td>6.84</td>\n",
       "      <td>4.11</td>\n",
       "    </tr>\n",
       "    <tr>\n",
       "      <th>4</th>\n",
       "      <td>4</td>\n",
       "      <td>B.J. Askew</td>\n",
       "      <td>RB</td>\n",
       "      <td>Michigan</td>\n",
       "      <td>6-2</td>\n",
       "      <td>241.0</td>\n",
       "      <td>4.60</td>\n",
       "      <td>0.0</td>\n",
       "      <td>0.0</td>\n",
       "      <td>0.0</td>\n",
       "      <td>0.00</td>\n",
       "      <td>0.00</td>\n",
       "    </tr>\n",
       "  </tbody>\n",
       "</table>\n",
       "</div>"
      ],
      "text/plain": [
       "   Unnamed: 0           Player  Pos          School   Ht     Wt  40yd  \\\n",
       "0           0  Khalid Abdullah  OLB       Mars Hill  6-2  227.0  4.61   \n",
       "1           1    Anthony Adams   DT      Penn State  6-0  299.0  5.13   \n",
       "2           2        Sam Aiken   WR  North Carolina  6-2  209.0  4.59   \n",
       "3           3      Paul Arnold   WR      Washington  6-1  213.0  4.53   \n",
       "4           4       B.J. Askew   RB        Michigan  6-2  241.0  4.60   \n",
       "\n",
       "   Vertical  Bench  Broad Jump  3Cone  Shuttle  \n",
       "0      36.5   26.0       126.0   7.13     4.25  \n",
       "1      30.5    0.0       109.0   7.68     4.59  \n",
       "2      39.5    0.0       121.0   7.22     0.00  \n",
       "3      40.5    0.0       131.0   6.84     4.11  \n",
       "4       0.0    0.0         0.0   0.00     0.00  "
      ]
     },
     "execution_count": 76,
     "metadata": {},
     "output_type": "execute_result"
    }
   ],
   "source": [
    "#import combine data file\n",
    "combine_data = pd.read_csv(\"AllCombine\")\n",
    "combine_data.head()"
   ]
  },
  {
   "cell_type": "code",
   "execution_count": 77,
   "metadata": {},
   "outputs": [
    {
     "name": "stdout",
     "output_type": "stream",
     "text": [
      "         Unnamed: 0           Wt         40yd     Vertical        Bench  \\\n",
      "count   7680.000000  7680.000000  7680.000000  7680.000000  7680.000000   \n",
      "Mean    3839.500000   241.990104     4.481572    25.407656    13.769661   \n",
      "Std     2217.169367    47.171999     1.186797    14.281995    11.099401   \n",
      "min        0.000000     0.000000     0.000000     0.000000     0.000000   \n",
      "25%     1919.750000   205.000000     4.510000    24.500000     0.000000   \n",
      "Median  3839.500000   232.000000     4.670000    31.500000    16.000000   \n",
      "75%     5759.250000   280.000000     4.950000    35.000000    23.000000   \n",
      "max     7679.000000   384.000000     6.050000    46.500000    49.000000   \n",
      "\n",
      "         Broad Jump        3Cone      Shuttle  \n",
      "count   7680.000000  7680.000000  7680.000000  \n",
      "Mean      87.424609     4.545194     2.804036  \n",
      "Std       49.421477     3.544137     2.125903  \n",
      "min        0.000000     0.000000     0.000000  \n",
      "25%       93.000000     0.000000     0.000000  \n",
      "Median   112.000000     6.940000     4.180000  \n",
      "75%      120.000000     7.300000     4.430000  \n",
      "max      147.000000     9.120000     5.560000  \n"
     ]
    }
   ],
   "source": [
    "#Summary of Combine Data\n",
    "summary_stats_single = combine_data.describe().rename(index={'mean': 'Mean', '50%': 'Median', 'std': 'Std', '50%': 'Median'})\n",
    "print(summary_stats_single)"
   ]
  },
  {
   "cell_type": "code",
   "execution_count": 78,
   "metadata": {},
   "outputs": [
    {
     "data": {
      "text/html": [
       "<div>\n",
       "<style scoped>\n",
       "    .dataframe tbody tr th:only-of-type {\n",
       "        vertical-align: middle;\n",
       "    }\n",
       "\n",
       "    .dataframe tbody tr th {\n",
       "        vertical-align: top;\n",
       "    }\n",
       "\n",
       "    .dataframe thead th {\n",
       "        text-align: right;\n",
       "    }\n",
       "</style>\n",
       "<table border=\"1\" class=\"dataframe\">\n",
       "  <thead>\n",
       "    <tr style=\"text-align: right;\">\n",
       "      <th></th>\n",
       "      <th>Unnamed: 0</th>\n",
       "      <th>Wt</th>\n",
       "      <th>40yd</th>\n",
       "      <th>Vertical</th>\n",
       "      <th>Bench</th>\n",
       "      <th>Broad Jump</th>\n",
       "      <th>3Cone</th>\n",
       "      <th>Shuttle</th>\n",
       "    </tr>\n",
       "  </thead>\n",
       "  <tbody>\n",
       "    <tr>\n",
       "      <th>count</th>\n",
       "      <td>7680.000000</td>\n",
       "      <td>7680.000000</td>\n",
       "      <td>7680.000000</td>\n",
       "      <td>7680.000000</td>\n",
       "      <td>7680.000000</td>\n",
       "      <td>7680.000000</td>\n",
       "      <td>7680.000000</td>\n",
       "      <td>7680.000000</td>\n",
       "    </tr>\n",
       "    <tr>\n",
       "      <th>Mean</th>\n",
       "      <td>3839.500000</td>\n",
       "      <td>241.990104</td>\n",
       "      <td>4.481572</td>\n",
       "      <td>25.407656</td>\n",
       "      <td>13.769661</td>\n",
       "      <td>87.424609</td>\n",
       "      <td>4.545194</td>\n",
       "      <td>2.804036</td>\n",
       "    </tr>\n",
       "    <tr>\n",
       "      <th>Std</th>\n",
       "      <td>2217.169367</td>\n",
       "      <td>47.171999</td>\n",
       "      <td>1.186797</td>\n",
       "      <td>14.281995</td>\n",
       "      <td>11.099401</td>\n",
       "      <td>49.421477</td>\n",
       "      <td>3.544137</td>\n",
       "      <td>2.125903</td>\n",
       "    </tr>\n",
       "    <tr>\n",
       "      <th>min</th>\n",
       "      <td>0.000000</td>\n",
       "      <td>0.000000</td>\n",
       "      <td>0.000000</td>\n",
       "      <td>0.000000</td>\n",
       "      <td>0.000000</td>\n",
       "      <td>0.000000</td>\n",
       "      <td>0.000000</td>\n",
       "      <td>0.000000</td>\n",
       "    </tr>\n",
       "    <tr>\n",
       "      <th>25%</th>\n",
       "      <td>1919.750000</td>\n",
       "      <td>205.000000</td>\n",
       "      <td>4.510000</td>\n",
       "      <td>24.500000</td>\n",
       "      <td>0.000000</td>\n",
       "      <td>93.000000</td>\n",
       "      <td>0.000000</td>\n",
       "      <td>0.000000</td>\n",
       "    </tr>\n",
       "  </tbody>\n",
       "</table>\n",
       "</div>"
      ],
      "text/plain": [
       "        Unnamed: 0           Wt         40yd     Vertical        Bench  \\\n",
       "count  7680.000000  7680.000000  7680.000000  7680.000000  7680.000000   \n",
       "Mean   3839.500000   241.990104     4.481572    25.407656    13.769661   \n",
       "Std    2217.169367    47.171999     1.186797    14.281995    11.099401   \n",
       "min       0.000000     0.000000     0.000000     0.000000     0.000000   \n",
       "25%    1919.750000   205.000000     4.510000    24.500000     0.000000   \n",
       "\n",
       "        Broad Jump        3Cone      Shuttle  \n",
       "count  7680.000000  7680.000000  7680.000000  \n",
       "Mean     87.424609     4.545194     2.804036  \n",
       "Std      49.421477     3.544137     2.125903  \n",
       "min       0.000000     0.000000     0.000000  \n",
       "25%      93.000000     0.000000     0.000000  "
      ]
     },
     "execution_count": 78,
     "metadata": {},
     "output_type": "execute_result"
    }
   ],
   "source": [
    "summary_stats_single.head()"
   ]
  },
  {
   "cell_type": "code",
   "execution_count": 79,
   "metadata": {},
   "outputs": [
    {
     "name": "stdout",
     "output_type": "stream",
     "text": [
      "      Unnamed: 0            Player Pos           School    Ht     Wt  40yd  \\\n",
      "2              2         Sam Aiken  WR   North Carolina   6-2  209.0  4.59   \n",
      "3              3       Paul Arnold  WR       Washington   6-1  213.0  4.53   \n",
      "4              4        B.J. Askew  RB         Michigan   6-2  241.0  4.60   \n",
      "9              9        Brad Banks  QB             Iowa  5-11  201.0  4.67   \n",
      "14            14      Arnaz Battle  WR       Notre Dame   6-1  217.0  4.58   \n",
      "...          ...               ...  ..              ...   ...    ...   ...   \n",
      "7674        7674     Renaldo Works  RB         Oklahoma   6-0  222.0  4.70   \n",
      "7675        7675     Carlos Wright  WR  Tennessee State   6-1  203.0  4.65   \n",
      "7676        7676      Jason Wright  RB     Northwestern  5-10  210.0  4.68   \n",
      "7678        7678     Kirk Yliniemi   K     Oregon State   6-0  214.0  4.69   \n",
      "7679        7679  Kevin Youngblood  WR          Clemson   6-4  213.0  4.64   \n",
      "\n",
      "      Vertical  Bench  Broad Jump  3Cone  Shuttle  \n",
      "2         39.5    0.0       121.0   7.22     0.00  \n",
      "3         40.5    0.0       131.0   6.84     4.11  \n",
      "4          0.0    0.0         0.0   0.00     0.00  \n",
      "9         33.5    0.0       112.0   0.00     0.00  \n",
      "14        35.0    0.0       117.0   6.74     4.06  \n",
      "...        ...    ...         ...    ...      ...  \n",
      "7674      30.5   21.0       115.0   7.25     4.09  \n",
      "7675      34.0    0.0       122.0   7.12     4.31  \n",
      "7676      30.0    0.0       111.0   7.35     4.12  \n",
      "7678       0.0    0.0         0.0   0.00     0.00  \n",
      "7679      34.0    0.0         0.0   0.00     0.00  \n",
      "\n",
      "[2685 rows x 12 columns]\n"
     ]
    }
   ],
   "source": [
    "#Filter desired positions\n",
    "desired_positions = ['QB', 'WR', 'TE', 'RB', 'K']\n",
    "combine_pos_filtered = combine_data[combine_data['Pos'].isin(desired_positions)]\n",
    "\n",
    "print(combine_pos_filtered)"
   ]
  },
  {
   "cell_type": "code",
   "execution_count": 80,
   "metadata": {},
   "outputs": [
    {
     "data": {
      "text/plain": [
       "Unnamed: 0    2685\n",
       "Player        2685\n",
       "Pos           2685\n",
       "School        2685\n",
       "Ht            2685\n",
       "Wt            2685\n",
       "40yd          2685\n",
       "Vertical      2685\n",
       "Bench         2685\n",
       "Broad Jump    2685\n",
       "3Cone         2685\n",
       "Shuttle       2685\n",
       "dtype: int64"
      ]
     },
     "execution_count": 80,
     "metadata": {},
     "output_type": "execute_result"
    }
   ],
   "source": [
    "combine_pos_filtered.count()"
   ]
  },
  {
   "cell_type": "code",
   "execution_count": 81,
   "metadata": {},
   "outputs": [
    {
     "data": {
      "text/html": [
       "<div>\n",
       "<style scoped>\n",
       "    .dataframe tbody tr th:only-of-type {\n",
       "        vertical-align: middle;\n",
       "    }\n",
       "\n",
       "    .dataframe tbody tr th {\n",
       "        vertical-align: top;\n",
       "    }\n",
       "\n",
       "    .dataframe thead th {\n",
       "        text-align: right;\n",
       "    }\n",
       "</style>\n",
       "<table border=\"1\" class=\"dataframe\">\n",
       "  <thead>\n",
       "    <tr style=\"text-align: right;\">\n",
       "      <th></th>\n",
       "      <th>Unnamed: 0</th>\n",
       "      <th>Player</th>\n",
       "      <th>School</th>\n",
       "      <th>Ht</th>\n",
       "      <th>Wt</th>\n",
       "      <th>40yd</th>\n",
       "      <th>Vertical</th>\n",
       "      <th>Bench</th>\n",
       "      <th>Broad Jump</th>\n",
       "      <th>3Cone</th>\n",
       "      <th>Shuttle</th>\n",
       "    </tr>\n",
       "    <tr>\n",
       "      <th>Pos</th>\n",
       "      <th></th>\n",
       "      <th></th>\n",
       "      <th></th>\n",
       "      <th></th>\n",
       "      <th></th>\n",
       "      <th></th>\n",
       "      <th></th>\n",
       "      <th></th>\n",
       "      <th></th>\n",
       "      <th></th>\n",
       "      <th></th>\n",
       "    </tr>\n",
       "  </thead>\n",
       "  <tbody>\n",
       "    <tr>\n",
       "      <th>K</th>\n",
       "      <td>104</td>\n",
       "      <td>104</td>\n",
       "      <td>104</td>\n",
       "      <td>104</td>\n",
       "      <td>104</td>\n",
       "      <td>104</td>\n",
       "      <td>104</td>\n",
       "      <td>104</td>\n",
       "      <td>104</td>\n",
       "      <td>104</td>\n",
       "      <td>104</td>\n",
       "    </tr>\n",
       "    <tr>\n",
       "      <th>QB</th>\n",
       "      <td>417</td>\n",
       "      <td>417</td>\n",
       "      <td>417</td>\n",
       "      <td>417</td>\n",
       "      <td>417</td>\n",
       "      <td>417</td>\n",
       "      <td>417</td>\n",
       "      <td>417</td>\n",
       "      <td>417</td>\n",
       "      <td>417</td>\n",
       "      <td>417</td>\n",
       "    </tr>\n",
       "    <tr>\n",
       "      <th>RB</th>\n",
       "      <td>673</td>\n",
       "      <td>673</td>\n",
       "      <td>673</td>\n",
       "      <td>673</td>\n",
       "      <td>673</td>\n",
       "      <td>673</td>\n",
       "      <td>673</td>\n",
       "      <td>673</td>\n",
       "      <td>673</td>\n",
       "      <td>673</td>\n",
       "      <td>673</td>\n",
       "    </tr>\n",
       "    <tr>\n",
       "      <th>TE</th>\n",
       "      <td>428</td>\n",
       "      <td>428</td>\n",
       "      <td>428</td>\n",
       "      <td>428</td>\n",
       "      <td>428</td>\n",
       "      <td>428</td>\n",
       "      <td>428</td>\n",
       "      <td>428</td>\n",
       "      <td>428</td>\n",
       "      <td>428</td>\n",
       "      <td>428</td>\n",
       "    </tr>\n",
       "    <tr>\n",
       "      <th>WR</th>\n",
       "      <td>1063</td>\n",
       "      <td>1063</td>\n",
       "      <td>1063</td>\n",
       "      <td>1063</td>\n",
       "      <td>1063</td>\n",
       "      <td>1063</td>\n",
       "      <td>1063</td>\n",
       "      <td>1063</td>\n",
       "      <td>1063</td>\n",
       "      <td>1063</td>\n",
       "      <td>1063</td>\n",
       "    </tr>\n",
       "  </tbody>\n",
       "</table>\n",
       "</div>"
      ],
      "text/plain": [
       "     Unnamed: 0  Player  School    Ht    Wt  40yd  Vertical  Bench  \\\n",
       "Pos                                                                  \n",
       "K           104     104     104   104   104   104       104    104   \n",
       "QB          417     417     417   417   417   417       417    417   \n",
       "RB          673     673     673   673   673   673       673    673   \n",
       "TE          428     428     428   428   428   428       428    428   \n",
       "WR         1063    1063    1063  1063  1063  1063      1063   1063   \n",
       "\n",
       "     Broad Jump  3Cone  Shuttle  \n",
       "Pos                              \n",
       "K           104    104      104  \n",
       "QB          417    417      417  \n",
       "RB          673    673      673  \n",
       "TE          428    428      428  \n",
       "WR         1063   1063     1063  "
      ]
     },
     "execution_count": 81,
     "metadata": {},
     "output_type": "execute_result"
    }
   ],
   "source": [
    "#Groupby by Position\n",
    "combine_pos = combine_pos_filtered.groupby(['Pos'])\n",
    "combine_pos.count()"
   ]
  },
  {
   "cell_type": "code",
   "execution_count": 82,
   "metadata": {},
   "outputs": [
    {
     "name": "stderr",
     "output_type": "stream",
     "text": [
      "c:\\Users\\mjeow\\anaconda3\\Lib\\site-packages\\seaborn\\_oldcore.py:1498: FutureWarning: is_categorical_dtype is deprecated and will be removed in a future version. Use isinstance(dtype, CategoricalDtype) instead\n",
      "  if pd.api.types.is_categorical_dtype(vector):\n",
      "c:\\Users\\mjeow\\anaconda3\\Lib\\site-packages\\seaborn\\_oldcore.py:1498: FutureWarning: is_categorical_dtype is deprecated and will be removed in a future version. Use isinstance(dtype, CategoricalDtype) instead\n",
      "  if pd.api.types.is_categorical_dtype(vector):\n",
      "c:\\Users\\mjeow\\anaconda3\\Lib\\site-packages\\seaborn\\_oldcore.py:1498: FutureWarning: is_categorical_dtype is deprecated and will be removed in a future version. Use isinstance(dtype, CategoricalDtype) instead\n",
      "  if pd.api.types.is_categorical_dtype(vector):\n"
     ]
    },
    {
     "data": {
      "image/png": "[encoded data removed]",
      "text/plain": [
       "<Figure size 1200x800 with 1 Axes>"
      ]
     },
     "metadata": {},
     "output_type": "display_data"
    }
   ],
   "source": [
    "#Box and Whisker of Individual Combine Events\n",
    "import seaborn as sns\n",
    "\n",
    "desired_positions = ['QB', 'WR', 'TE', 'RB', 'K']\n",
    "filtered_data = combine_data[combine_data['Pos'].isin(desired_positions)]\n",
    "\n",
    "plt.figure(figsize=(12, 8))\n",
    "sns.boxplot(x='Pos', y='40yd', data=filtered_data)\n",
    "plt.xlabel('Position')\n",
    "plt.ylabel('40yd Time')\n",
    "plt.title('Box and Whisker Plot of 40yd Time')\n",
    "plt.show()\n"
   ]
  },
  {
   "cell_type": "code",
   "execution_count": 112,
   "metadata": {},
   "outputs": [
    {
     "name": "stderr",
     "output_type": "stream",
     "text": [
      "c:\\Users\\mjeow\\anaconda3\\Lib\\site-packages\\seaborn\\_oldcore.py:1498: FutureWarning: is_categorical_dtype is deprecated and will be removed in a future version. Use isinstance(dtype, CategoricalDtype) instead\n",
      "  if pd.api.types.is_categorical_dtype(vector):\n",
      "c:\\Users\\mjeow\\anaconda3\\Lib\\site-packages\\seaborn\\_oldcore.py:1498: FutureWarning: is_categorical_dtype is deprecated and will be removed in a future version. Use isinstance(dtype, CategoricalDtype) instead\n",
      "  if pd.api.types.is_categorical_dtype(vector):\n",
      "c:\\Users\\mjeow\\anaconda3\\Lib\\site-packages\\seaborn\\_oldcore.py:1498: FutureWarning: is_categorical_dtype is deprecated and will be removed in a future version. Use isinstance(dtype, CategoricalDtype) instead\n",
      "  if pd.api.types.is_categorical_dtype(vector):\n",
      "c:\\Users\\mjeow\\anaconda3\\Lib\\site-packages\\seaborn\\_oldcore.py:1498: FutureWarning: is_categorical_dtype is deprecated and will be removed in a future version. Use isinstance(dtype, CategoricalDtype) instead\n",
      "  if pd.api.types.is_categorical_dtype(vector):\n",
      "c:\\Users\\mjeow\\anaconda3\\Lib\\site-packages\\seaborn\\_oldcore.py:1498: FutureWarning: is_categorical_dtype is deprecated and will be removed in a future version. Use isinstance(dtype, CategoricalDtype) instead\n",
      "  if pd.api.types.is_categorical_dtype(vector):\n",
      "c:\\Users\\mjeow\\anaconda3\\Lib\\site-packages\\seaborn\\_oldcore.py:1498: FutureWarning: is_categorical_dtype is deprecated and will be removed in a future version. Use isinstance(dtype, CategoricalDtype) instead\n",
      "  if pd.api.types.is_categorical_dtype(vector):\n",
      "c:\\Users\\mjeow\\anaconda3\\Lib\\site-packages\\seaborn\\_oldcore.py:1498: FutureWarning: is_categorical_dtype is deprecated and will be removed in a future version. Use isinstance(dtype, CategoricalDtype) instead\n",
      "  if pd.api.types.is_categorical_dtype(vector):\n",
      "c:\\Users\\mjeow\\anaconda3\\Lib\\site-packages\\seaborn\\_oldcore.py:1498: FutureWarning: is_categorical_dtype is deprecated and will be removed in a future version. Use isinstance(dtype, CategoricalDtype) instead\n",
      "  if pd.api.types.is_categorical_dtype(vector):\n",
      "c:\\Users\\mjeow\\anaconda3\\Lib\\site-packages\\seaborn\\_oldcore.py:1498: FutureWarning: is_categorical_dtype is deprecated and will be removed in a future version. Use isinstance(dtype, CategoricalDtype) instead\n",
      "  if pd.api.types.is_categorical_dtype(vector):\n",
      "c:\\Users\\mjeow\\anaconda3\\Lib\\site-packages\\seaborn\\_oldcore.py:1498: FutureWarning: is_categorical_dtype is deprecated and will be removed in a future version. Use isinstance(dtype, CategoricalDtype) instead\n",
      "  if pd.api.types.is_categorical_dtype(vector):\n",
      "c:\\Users\\mjeow\\anaconda3\\Lib\\site-packages\\seaborn\\_oldcore.py:1498: FutureWarning: is_categorical_dtype is deprecated and will be removed in a future version. Use isinstance(dtype, CategoricalDtype) instead\n",
      "  if pd.api.types.is_categorical_dtype(vector):\n",
      "c:\\Users\\mjeow\\anaconda3\\Lib\\site-packages\\seaborn\\_oldcore.py:1498: FutureWarning: is_categorical_dtype is deprecated and will be removed in a future version. Use isinstance(dtype, CategoricalDtype) instead\n",
      "  if pd.api.types.is_categorical_dtype(vector):\n",
      "c:\\Users\\mjeow\\anaconda3\\Lib\\site-packages\\seaborn\\_oldcore.py:1498: FutureWarning: is_categorical_dtype is deprecated and will be removed in a future version. Use isinstance(dtype, CategoricalDtype) instead\n",
      "  if pd.api.types.is_categorical_dtype(vector):\n",
      "c:\\Users\\mjeow\\anaconda3\\Lib\\site-packages\\seaborn\\_oldcore.py:1498: FutureWarning: is_categorical_dtype is deprecated and will be removed in a future version. Use isinstance(dtype, CategoricalDtype) instead\n",
      "  if pd.api.types.is_categorical_dtype(vector):\n",
      "c:\\Users\\mjeow\\anaconda3\\Lib\\site-packages\\seaborn\\_oldcore.py:1498: FutureWarning: is_categorical_dtype is deprecated and will be removed in a future version. Use isinstance(dtype, CategoricalDtype) instead\n",
      "  if pd.api.types.is_categorical_dtype(vector):\n",
      "c:\\Users\\mjeow\\anaconda3\\Lib\\site-packages\\seaborn\\_oldcore.py:1498: FutureWarning: is_categorical_dtype is deprecated and will be removed in a future version. Use isinstance(dtype, CategoricalDtype) instead\n",
      "  if pd.api.types.is_categorical_dtype(vector):\n",
      "c:\\Users\\mjeow\\anaconda3\\Lib\\site-packages\\seaborn\\_oldcore.py:1498: FutureWarning: is_categorical_dtype is deprecated and will be removed in a future version. Use isinstance(dtype, CategoricalDtype) instead\n",
      "  if pd.api.types.is_categorical_dtype(vector):\n",
      "c:\\Users\\mjeow\\anaconda3\\Lib\\site-packages\\seaborn\\_oldcore.py:1498: FutureWarning: is_categorical_dtype is deprecated and will be removed in a future version. Use isinstance(dtype, CategoricalDtype) instead\n",
      "  if pd.api.types.is_categorical_dtype(vector):\n"
     ]
    },
    {
     "data": {
      "image/png": "[encoded data removed]",
      "text/plain": [
       "<Figure size 1600x1800 with 6 Axes>"
      ]
     },
     "metadata": {},
     "output_type": "display_data"
    }
   ],
   "source": [
    "desired_positions = ['QB', 'WR', 'TE', 'RB', 'K']\n",
    "filtered_data = combine_data[combine_data['Pos'].isin(desired_positions)]\n",
    "\n",
    "columns_to_plot = ['40yd', 'Vertical', 'Bench', 'Broad Jump', '3Cone', 'Shuttle']\n",
    "\n",
    "fig, axes = plt.subplots(nrows=3, ncols=2, figsize=(16, 18))\n",
    "axes = axes.flatten()\n",
    "\n",
    "\n",
    "for i, column in enumerate(columns_to_plot):\n",
    "    sns.boxplot(x='Pos', y=column, data=filtered_data, ax=axes[i])\n",
    "    axes[i].set_xlabel('Position')\n",
    "    axes[i].set_ylabel(column)\n",
    "    axes[i].set_title(f'{column}')\n",
    "\n",
    "\n",
    "plt.tight_layout()\n",
    "plt.show()"
   ]
  },
  {
   "cell_type": "markdown",
   "metadata": {},
   "source": [
    "Fantasy Points Dataframe:"
   ]
  },
  {
   "cell_type": "code",
   "execution_count": 84,
   "metadata": {},
   "outputs": [
    {
     "name": "stderr",
     "output_type": "stream",
     "text": [
      "C:\\Users\\mjeow\\AppData\\Local\\Temp\\ipykernel_15492\\1323350992.py:1: DtypeWarning: Columns (3,23,42,61,80,99,118,137,156,175,194,213,232,251,270,289,308,327,346,365) have mixed types. Specify dtype option on import or set low_memory=False.\n",
      "  ff_data = pd.read_csv(\"DataFrames/FullFFMerge.csv\")\n"
     ]
    },
    {
     "data": {
      "text/html": [
       "<div>\n",
       "<style scoped>\n",
       "    .dataframe tbody tr th:only-of-type {\n",
       "        vertical-align: middle;\n",
       "    }\n",
       "\n",
       "    .dataframe tbody tr th {\n",
       "        vertical-align: top;\n",
       "    }\n",
       "\n",
       "    .dataframe thead th {\n",
       "        text-align: right;\n",
       "    }\n",
       "</style>\n",
       "<table border=\"1\" class=\"dataframe\">\n",
       "  <thead>\n",
       "    <tr style=\"text-align: right;\">\n",
       "      <th></th>\n",
       "      <th>Unnamed: 0</th>\n",
       "      <th>index2000</th>\n",
       "      <th>Player</th>\n",
       "      <th>Tm_2000</th>\n",
       "      <th>Pos</th>\n",
       "      <th>Age_2000</th>\n",
       "      <th>G_2000</th>\n",
       "      <th>GS_2000</th>\n",
       "      <th>Tgt_2000</th>\n",
       "      <th>Rec_2000</th>\n",
       "      <th>...</th>\n",
       "      <th>Rushingyds_2020</th>\n",
       "      <th>RushingTD_2020</th>\n",
       "      <th>RushingAtt_2020</th>\n",
       "      <th>ReceivingYds_2020</th>\n",
       "      <th>ReceivingTD_2020</th>\n",
       "      <th>FantasyPoints_2020</th>\n",
       "      <th>Int_2020</th>\n",
       "      <th>Fumbles_2020</th>\n",
       "      <th>FumblesLost_2020</th>\n",
       "      <th>Total Fantasy Points</th>\n",
       "    </tr>\n",
       "  </thead>\n",
       "  <tbody>\n",
       "    <tr>\n",
       "      <th>0</th>\n",
       "      <td>0</td>\n",
       "      <td>0.0</td>\n",
       "      <td>Marshall Faulk</td>\n",
       "      <td>STL</td>\n",
       "      <td>RB</td>\n",
       "      <td>27.0</td>\n",
       "      <td>14.0</td>\n",
       "      <td>14.0</td>\n",
       "      <td>113.0</td>\n",
       "      <td>81.0</td>\n",
       "      <td>...</td>\n",
       "      <td>0.0</td>\n",
       "      <td>0.0</td>\n",
       "      <td>0.0</td>\n",
       "      <td>0.0</td>\n",
       "      <td>0.0</td>\n",
       "      <td>0.0</td>\n",
       "      <td>0.0</td>\n",
       "      <td>0.0</td>\n",
       "      <td>0.0</td>\n",
       "      <td>1665.10</td>\n",
       "    </tr>\n",
       "    <tr>\n",
       "      <th>1</th>\n",
       "      <td>1</td>\n",
       "      <td>1.0</td>\n",
       "      <td>Edgerrin James</td>\n",
       "      <td>IND</td>\n",
       "      <td>RB</td>\n",
       "      <td>22.0</td>\n",
       "      <td>16.0</td>\n",
       "      <td>16.0</td>\n",
       "      <td>87.0</td>\n",
       "      <td>63.0</td>\n",
       "      <td>...</td>\n",
       "      <td>0.0</td>\n",
       "      <td>0.0</td>\n",
       "      <td>0.0</td>\n",
       "      <td>0.0</td>\n",
       "      <td>0.0</td>\n",
       "      <td>0.0</td>\n",
       "      <td>0.0</td>\n",
       "      <td>0.0</td>\n",
       "      <td>0.0</td>\n",
       "      <td>2124.10</td>\n",
       "    </tr>\n",
       "    <tr>\n",
       "      <th>2</th>\n",
       "      <td>2</td>\n",
       "      <td>2.0</td>\n",
       "      <td>Daunte Culpepper</td>\n",
       "      <td>MIN</td>\n",
       "      <td>QB</td>\n",
       "      <td>23.0</td>\n",
       "      <td>16.0</td>\n",
       "      <td>16.0</td>\n",
       "      <td>0.0</td>\n",
       "      <td>0.0</td>\n",
       "      <td>...</td>\n",
       "      <td>0.0</td>\n",
       "      <td>0.0</td>\n",
       "      <td>0.0</td>\n",
       "      <td>0.0</td>\n",
       "      <td>0.0</td>\n",
       "      <td>0.0</td>\n",
       "      <td>0.0</td>\n",
       "      <td>0.0</td>\n",
       "      <td>0.0</td>\n",
       "      <td>1741.72</td>\n",
       "    </tr>\n",
       "    <tr>\n",
       "      <th>3</th>\n",
       "      <td>3</td>\n",
       "      <td>3.0</td>\n",
       "      <td>Jeff Garcia</td>\n",
       "      <td>SFO</td>\n",
       "      <td>QB</td>\n",
       "      <td>30.0</td>\n",
       "      <td>16.0</td>\n",
       "      <td>16.0</td>\n",
       "      <td>0.0</td>\n",
       "      <td>0.0</td>\n",
       "      <td>...</td>\n",
       "      <td>0.0</td>\n",
       "      <td>0.0</td>\n",
       "      <td>0.0</td>\n",
       "      <td>0.0</td>\n",
       "      <td>0.0</td>\n",
       "      <td>0.0</td>\n",
       "      <td>0.0</td>\n",
       "      <td>0.0</td>\n",
       "      <td>0.0</td>\n",
       "      <td>1668.22</td>\n",
       "    </tr>\n",
       "    <tr>\n",
       "      <th>4</th>\n",
       "      <td>4</td>\n",
       "      <td>4.0</td>\n",
       "      <td>Eddie George</td>\n",
       "      <td>TEN</td>\n",
       "      <td>RB</td>\n",
       "      <td>27.0</td>\n",
       "      <td>16.0</td>\n",
       "      <td>16.0</td>\n",
       "      <td>65.0</td>\n",
       "      <td>50.0</td>\n",
       "      <td>...</td>\n",
       "      <td>0.0</td>\n",
       "      <td>0.0</td>\n",
       "      <td>0.0</td>\n",
       "      <td>0.0</td>\n",
       "      <td>0.0</td>\n",
       "      <td>0.0</td>\n",
       "      <td>0.0</td>\n",
       "      <td>0.0</td>\n",
       "      <td>0.0</td>\n",
       "      <td>1024.90</td>\n",
       "    </tr>\n",
       "  </tbody>\n",
       "</table>\n",
       "<p>5 rows × 402 columns</p>\n",
       "</div>"
      ],
      "text/plain": [
       "   Unnamed: 0  index2000            Player Tm_2000 Pos  Age_2000  G_2000  \\\n",
       "0           0        0.0    Marshall Faulk     STL  RB      27.0    14.0   \n",
       "1           1        1.0    Edgerrin James     IND  RB      22.0    16.0   \n",
       "2           2        2.0  Daunte Culpepper     MIN  QB      23.0    16.0   \n",
       "3           3        3.0       Jeff Garcia     SFO  QB      30.0    16.0   \n",
       "4           4        4.0      Eddie George     TEN  RB      27.0    16.0   \n",
       "\n",
       "   GS_2000  Tgt_2000  Rec_2000  ...  Rushingyds_2020  RushingTD_2020  \\\n",
       "0     14.0     113.0      81.0  ...              0.0             0.0   \n",
       "1     16.0      87.0      63.0  ...              0.0             0.0   \n",
       "2     16.0       0.0       0.0  ...              0.0             0.0   \n",
       "3     16.0       0.0       0.0  ...              0.0             0.0   \n",
       "4     16.0      65.0      50.0  ...              0.0             0.0   \n",
       "\n",
       "   RushingAtt_2020  ReceivingYds_2020  ReceivingTD_2020  FantasyPoints_2020  \\\n",
       "0              0.0                0.0               0.0                 0.0   \n",
       "1              0.0                0.0               0.0                 0.0   \n",
       "2              0.0                0.0               0.0                 0.0   \n",
       "3              0.0                0.0               0.0                 0.0   \n",
       "4              0.0                0.0               0.0                 0.0   \n",
       "\n",
       "   Int_2020  Fumbles_2020  FumblesLost_2020  Total Fantasy Points  \n",
       "0       0.0           0.0               0.0               1665.10  \n",
       "1       0.0           0.0               0.0               2124.10  \n",
       "2       0.0           0.0               0.0               1741.72  \n",
       "3       0.0           0.0               0.0               1668.22  \n",
       "4       0.0           0.0               0.0               1024.90  \n",
       "\n",
       "[5 rows x 402 columns]"
      ]
     },
     "execution_count": 84,
     "metadata": {},
     "output_type": "execute_result"
    }
   ],
   "source": [
    "ff_data = pd.read_csv(\"DataFrames/FullFFMerge.csv\")\n",
    "ff_data.head()"
   ]
  },
  {
   "cell_type": "code",
   "execution_count": 85,
   "metadata": {},
   "outputs": [
    {
     "name": "stdout",
     "output_type": "stream",
     "text": [
      "         Unnamed: 0    index2000     Age_2000       G_2000      GS_2000  \\\n",
      "count   4188.000000  4188.000000  4188.000000  4188.000000  4188.000000   \n",
      "Mean    2093.500000    37.003820     3.561843     1.530564     0.717049   \n",
      "Std     1209.115793   111.140388     9.156404     4.322698     2.841305   \n",
      "min        0.000000     0.000000     0.000000     0.000000     0.000000   \n",
      "25%     1046.750000     0.000000     0.000000     0.000000     0.000000   \n",
      "Median  2093.500000     0.000000     0.000000     0.000000     0.000000   \n",
      "75%     3140.250000     0.000000     0.000000     0.000000     0.000000   \n",
      "max     4187.000000   556.000000    44.000000    16.000000    16.000000   \n",
      "\n",
      "           Tgt_2000     Rec_2000  PassingYds_2000  PassingTD_2000  \\\n",
      "count   4188.000000  4188.000000      4188.000000     4188.000000   \n",
      "Mean       3.838109     2.296323        26.294651        0.151385   \n",
      "Std       17.257558    10.386917       266.198107        1.656278   \n",
      "min        0.000000     0.000000        -4.000000        0.000000   \n",
      "25%        0.000000     0.000000         0.000000        0.000000   \n",
      "Median     0.000000     0.000000         0.000000        0.000000   \n",
      "75%        0.000000     0.000000         0.000000        0.000000   \n",
      "max      173.000000   102.000000      4413.000000       33.000000   \n",
      "\n",
      "        PassingAtt_2000  ...  Rushingyds_2020  RushingTD_2020  \\\n",
      "count       4188.000000  ...      4188.000000     4188.000000   \n",
      "Mean           3.896371  ...        15.521729        0.138730   \n",
      "Std           38.528694  ...        98.331856        0.957965   \n",
      "min            0.000000  ...       -12.000000        0.000000   \n",
      "25%            0.000000  ...         0.000000        0.000000   \n",
      "Median         0.000000  ...         0.000000        0.000000   \n",
      "75%            0.000000  ...         0.000000        0.000000   \n",
      "max          590.000000  ...      2027.000000       17.000000   \n",
      "\n",
      "        RushingAtt_2020  ReceivingYds_2020  ReceivingTD_2020  \\\n",
      "count       4188.000000        4188.000000       4188.000000   \n",
      "Mean           3.549666          31.854346          0.211079   \n",
      "Std           21.562173         137.400037          1.049913   \n",
      "min            0.000000          -6.000000          0.000000   \n",
      "25%            0.000000           0.000000          0.000000   \n",
      "Median         0.000000           0.000000          0.000000   \n",
      "75%            0.000000           0.000000          0.000000   \n",
      "max          378.000000        1535.000000         18.000000   \n",
      "\n",
      "        FantasyPoints_2020     Int_2020  Fumbles_2020  FumblesLost_2020  \\\n",
      "count          4188.000000  4188.000000   4188.000000       4188.000000   \n",
      "Mean              8.680755     0.094317      0.129656          0.062321   \n",
      "Std              34.947879     0.918164      0.743509          0.396044   \n",
      "min              -3.000000     0.000000      0.000000          0.000000   \n",
      "25%               0.000000     0.000000      0.000000          0.000000   \n",
      "Median            0.000000     0.000000      0.000000          0.000000   \n",
      "75%               0.000000     0.000000      0.000000          0.000000   \n",
      "max             395.000000    15.000000     11.000000          8.000000   \n",
      "\n",
      "        Total Fantasy Points  \n",
      "count            4188.000000  \n",
      "Mean              252.744331  \n",
      "Std               551.111287  \n",
      "min                -6.000000  \n",
      "25%                 0.000000  \n",
      "Median             26.900000  \n",
      "75%               201.360000  \n",
      "max              5278.040000  \n",
      "\n",
      "[8 rows x 379 columns]\n"
     ]
    }
   ],
   "source": [
    "summary_stats_single = ff_data.describe().rename(index={'mean': 'Mean', '50%': 'Median', 'std': 'Std', '50%': 'Median'})\n",
    "print(summary_stats_single)"
   ]
  },
  {
   "cell_type": "code",
   "execution_count": 86,
   "metadata": {},
   "outputs": [
    {
     "name": "stdout",
     "output_type": "stream",
     "text": [
      "NormaltestResult(statistic=3042.768082926703, pvalue=0.0)\n"
     ]
    }
   ],
   "source": [
    "print(st.normaltest(ff_data['Total Fantasy Points']))"
   ]
  },
  {
   "cell_type": "code",
   "execution_count": 87,
   "metadata": {},
   "outputs": [
    {
     "name": "stderr",
     "output_type": "stream",
     "text": [
      "c:\\Users\\mjeow\\anaconda3\\Lib\\site-packages\\seaborn\\_oldcore.py:1498: FutureWarning: is_categorical_dtype is deprecated and will be removed in a future version. Use isinstance(dtype, CategoricalDtype) instead\n",
      "  if pd.api.types.is_categorical_dtype(vector):\n",
      "c:\\Users\\mjeow\\anaconda3\\Lib\\site-packages\\seaborn\\_oldcore.py:1498: FutureWarning: is_categorical_dtype is deprecated and will be removed in a future version. Use isinstance(dtype, CategoricalDtype) instead\n",
      "  if pd.api.types.is_categorical_dtype(vector):\n",
      "c:\\Users\\mjeow\\anaconda3\\Lib\\site-packages\\seaborn\\_oldcore.py:1498: FutureWarning: is_categorical_dtype is deprecated and will be removed in a future version. Use isinstance(dtype, CategoricalDtype) instead\n",
      "  if pd.api.types.is_categorical_dtype(vector):\n"
     ]
    },
    {
     "data": {
      "image/png": "[encoded data removed]",
      "text/plain": [
       "<Figure size 1200x800 with 1 Axes>"
      ]
     },
     "metadata": {},
     "output_type": "display_data"
    }
   ],
   "source": [
    "plt.figure(figsize=(12, 8))\n",
    "sns.boxplot(x='Pos', y='Total Fantasy Points', data=ff_data)\n",
    "plt.title('Box and Whisker Plot of Total Fantasy Points')\n",
    "plt.xlabel('Position')\n",
    "plt.ylabel('Total Fantasy Points')\n",
    "plt.show()"
   ]
  },
  {
   "cell_type": "markdown",
   "metadata": {},
   "source": [
    "Analysis of Individual Combine Events:"
   ]
  },
  {
   "cell_type": "code",
   "execution_count": 88,
   "metadata": {},
   "outputs": [
    {
     "name": "stdout",
     "output_type": "stream",
     "text": [
      "Number of NaN values in the '40yd' column: 474\n"
     ]
    }
   ],
   "source": [
    "zero_count = combine_data['40yd'].value_counts().get(0, 0)\n",
    "\n",
    "print(f\"Number of NaN values in the '40yd' column: {zero_count}\")"
   ]
  },
  {
   "cell_type": "code",
   "execution_count": 89,
   "metadata": {},
   "outputs": [
    {
     "name": "stdout",
     "output_type": "stream",
     "text": [
      "2685\n"
     ]
    },
    {
     "data": {
      "image/png": "[encoded data removed]",
      "text/plain": [
       "<Figure size 640x480 with 1 Axes>"
      ]
     },
     "metadata": {},
     "output_type": "display_data"
    }
   ],
   "source": [
    "combine_pos_flat = combine_pos['40yd'].apply(lambda x: np.nan if isinstance(x, (list, tuple)) else x)\n",
    "\n",
    "print(combine_pos_flat.count())\n",
    "\n",
    "plt.hist(combine_pos_flat, bins='auto')\n",
    "plt.xlabel('40yd Dash')\n",
    "plt.ylabel('Frequency')\n",
    "plt.title('40yd')\n",
    "plt.show()"
   ]
  },
  {
   "cell_type": "code",
   "execution_count": 90,
   "metadata": {},
   "outputs": [
    {
     "name": "stderr",
     "output_type": "stream",
     "text": [
      "C:\\Users\\mjeow\\AppData\\Local\\Temp\\ipykernel_15492\\1333347371.py:1: SettingWithCopyWarning: \n",
      "A value is trying to be set on a copy of a slice from a DataFrame.\n",
      "Try using .loc[row_indexer,col_indexer] = value instead\n",
      "\n",
      "See the caveats in the documentation: https://pandas.pydata.org/pandas-docs/stable/user_guide/indexing.html#returning-a-view-versus-a-copy\n",
      "  combine_pos_filtered['40yd'] = combine_pos_filtered['40yd'].replace(0.0, pd.NA)\n",
      "C:\\Users\\mjeow\\AppData\\Local\\Temp\\ipykernel_15492\\1333347371.py:2: SettingWithCopyWarning: \n",
      "A value is trying to be set on a copy of a slice from a DataFrame.\n",
      "Try using .loc[row_indexer,col_indexer] = value instead\n",
      "\n",
      "See the caveats in the documentation: https://pandas.pydata.org/pandas-docs/stable/user_guide/indexing.html#returning-a-view-versus-a-copy\n",
      "  combine_pos_filtered['40yd'] = pd.to_numeric(combine_pos_filtered['40yd'], errors='coerce')\n"
     ]
    }
   ],
   "source": [
    "combine_pos_filtered['40yd'] = combine_pos_filtered['40yd'].replace(0.0, pd.NA)\n",
    "combine_pos_filtered['40yd'] = pd.to_numeric(combine_pos_filtered['40yd'], errors='coerce')\n",
    "combine_pos_filtered = combine_pos_filtered.dropna(subset=['40yd'])"
   ]
  },
  {
   "cell_type": "code",
   "execution_count": 91,
   "metadata": {},
   "outputs": [
    {
     "data": {
      "text/plain": [
       "Unnamed: 0    2514\n",
       "Player        2514\n",
       "Pos           2514\n",
       "School        2514\n",
       "Ht            2514\n",
       "Wt            2514\n",
       "40yd          2514\n",
       "Vertical      2514\n",
       "Bench         2514\n",
       "Broad Jump    2514\n",
       "3Cone         2514\n",
       "Shuttle       2514\n",
       "dtype: int64"
      ]
     },
     "execution_count": 91,
     "metadata": {},
     "output_type": "execute_result"
    }
   ],
   "source": [
    "combine_pos_filtered.count()"
   ]
  },
  {
   "cell_type": "code",
   "execution_count": 92,
   "metadata": {},
   "outputs": [
    {
     "name": "stdout",
     "output_type": "stream",
     "text": [
      "NormaltestResult(statistic=223.05953681159133, pvalue=3.657943670686471e-49)\n"
     ]
    }
   ],
   "source": [
    "print(st.normaltest(combine_pos_filtered['40yd']))"
   ]
  },
  {
   "cell_type": "code",
   "execution_count": 93,
   "metadata": {},
   "outputs": [
    {
     "data": {
      "text/plain": [
       "(array([ 46., 330., 743., 579., 366., 234., 144.,  47.,  19.,   6.]),\n",
       " array([4.22 , 4.335, 4.45 , 4.565, 4.68 , 4.795, 4.91 , 5.025, 5.14 ,\n",
       "        5.255, 5.37 ]),\n",
       " <BarContainer object of 10 artists>)"
      ]
     },
     "execution_count": 93,
     "metadata": {},
     "output_type": "execute_result"
    },
    {
     "data": {
      "image/png": "[encoded data removed]",
      "text/plain": [
       "<Figure size 640x480 with 1 Axes>"
      ]
     },
     "metadata": {},
     "output_type": "display_data"
    }
   ],
   "source": [
    "plt.hist(combine_pos_filtered['40yd'])"
   ]
  },
  {
   "cell_type": "code",
   "execution_count": 94,
   "metadata": {},
   "outputs": [],
   "source": [
    "combine_pos = combine_pos_filtered.groupby(['Pos'])\n",
    "\n",
    "combine_pos_40yd_mean = combine_pos['40yd'].mean()\n",
    "combine_pos_40yd_median = combine_pos['40yd'].median()\n",
    "combine_pos_40yd_var = combine_pos['40yd'].var()\n",
    "combine_pos_40yd_std = combine_pos['40yd'].std()\n",
    "combine_pos_40yd_sem = combine_pos['40yd'].sem()"
   ]
  },
  {
   "cell_type": "code",
   "execution_count": 95,
   "metadata": {},
   "outputs": [
    {
     "data": {
      "text/html": [
       "<div>\n",
       "<style scoped>\n",
       "    .dataframe tbody tr th:only-of-type {\n",
       "        vertical-align: middle;\n",
       "    }\n",
       "\n",
       "    .dataframe tbody tr th {\n",
       "        vertical-align: top;\n",
       "    }\n",
       "\n",
       "    .dataframe thead th {\n",
       "        text-align: right;\n",
       "    }\n",
       "</style>\n",
       "<table border=\"1\" class=\"dataframe\">\n",
       "  <thead>\n",
       "    <tr style=\"text-align: right;\">\n",
       "      <th></th>\n",
       "      <th>Unnamed: 0</th>\n",
       "      <th>Player</th>\n",
       "      <th>School</th>\n",
       "      <th>Ht</th>\n",
       "      <th>Wt</th>\n",
       "      <th>40yd</th>\n",
       "      <th>Vertical</th>\n",
       "      <th>Bench</th>\n",
       "      <th>Broad Jump</th>\n",
       "      <th>3Cone</th>\n",
       "      <th>Shuttle</th>\n",
       "    </tr>\n",
       "    <tr>\n",
       "      <th>Pos</th>\n",
       "      <th></th>\n",
       "      <th></th>\n",
       "      <th></th>\n",
       "      <th></th>\n",
       "      <th></th>\n",
       "      <th></th>\n",
       "      <th></th>\n",
       "      <th></th>\n",
       "      <th></th>\n",
       "      <th></th>\n",
       "      <th></th>\n",
       "    </tr>\n",
       "  </thead>\n",
       "  <tbody>\n",
       "    <tr>\n",
       "      <th>K</th>\n",
       "      <td>61</td>\n",
       "      <td>61</td>\n",
       "      <td>61</td>\n",
       "      <td>61</td>\n",
       "      <td>61</td>\n",
       "      <td>61</td>\n",
       "      <td>61</td>\n",
       "      <td>61</td>\n",
       "      <td>61</td>\n",
       "      <td>61</td>\n",
       "      <td>61</td>\n",
       "    </tr>\n",
       "    <tr>\n",
       "      <th>QB</th>\n",
       "      <td>393</td>\n",
       "      <td>393</td>\n",
       "      <td>393</td>\n",
       "      <td>393</td>\n",
       "      <td>393</td>\n",
       "      <td>393</td>\n",
       "      <td>393</td>\n",
       "      <td>393</td>\n",
       "      <td>393</td>\n",
       "      <td>393</td>\n",
       "      <td>393</td>\n",
       "    </tr>\n",
       "    <tr>\n",
       "      <th>RB</th>\n",
       "      <td>648</td>\n",
       "      <td>648</td>\n",
       "      <td>648</td>\n",
       "      <td>648</td>\n",
       "      <td>648</td>\n",
       "      <td>648</td>\n",
       "      <td>648</td>\n",
       "      <td>648</td>\n",
       "      <td>648</td>\n",
       "      <td>648</td>\n",
       "      <td>648</td>\n",
       "    </tr>\n",
       "    <tr>\n",
       "      <th>TE</th>\n",
       "      <td>396</td>\n",
       "      <td>396</td>\n",
       "      <td>396</td>\n",
       "      <td>396</td>\n",
       "      <td>396</td>\n",
       "      <td>396</td>\n",
       "      <td>396</td>\n",
       "      <td>396</td>\n",
       "      <td>396</td>\n",
       "      <td>396</td>\n",
       "      <td>396</td>\n",
       "    </tr>\n",
       "    <tr>\n",
       "      <th>WR</th>\n",
       "      <td>1016</td>\n",
       "      <td>1016</td>\n",
       "      <td>1016</td>\n",
       "      <td>1016</td>\n",
       "      <td>1016</td>\n",
       "      <td>1016</td>\n",
       "      <td>1016</td>\n",
       "      <td>1016</td>\n",
       "      <td>1016</td>\n",
       "      <td>1016</td>\n",
       "      <td>1016</td>\n",
       "    </tr>\n",
       "  </tbody>\n",
       "</table>\n",
       "</div>"
      ],
      "text/plain": [
       "     Unnamed: 0  Player  School    Ht    Wt  40yd  Vertical  Bench  \\\n",
       "Pos                                                                  \n",
       "K            61      61      61    61    61    61        61     61   \n",
       "QB          393     393     393   393   393   393       393    393   \n",
       "RB          648     648     648   648   648   648       648    648   \n",
       "TE          396     396     396   396   396   396       396    396   \n",
       "WR         1016    1016    1016  1016  1016  1016      1016   1016   \n",
       "\n",
       "     Broad Jump  3Cone  Shuttle  \n",
       "Pos                              \n",
       "K            61     61       61  \n",
       "QB          393    393      393  \n",
       "RB          648    648      648  \n",
       "TE          396    396      396  \n",
       "WR         1016   1016     1016  "
      ]
     },
     "execution_count": 95,
     "metadata": {},
     "output_type": "execute_result"
    }
   ],
   "source": [
    "combine_pos.count()"
   ]
  },
  {
   "cell_type": "code",
   "execution_count": 96,
   "metadata": {},
   "outputs": [
    {
     "data": {
      "text/html": [
       "<div>\n",
       "<style scoped>\n",
       "    .dataframe tbody tr th:only-of-type {\n",
       "        vertical-align: middle;\n",
       "    }\n",
       "\n",
       "    .dataframe tbody tr th {\n",
       "        vertical-align: top;\n",
       "    }\n",
       "\n",
       "    .dataframe thead th {\n",
       "        text-align: right;\n",
       "    }\n",
       "</style>\n",
       "<table border=\"1\" class=\"dataframe\">\n",
       "  <thead>\n",
       "    <tr style=\"text-align: right;\">\n",
       "      <th></th>\n",
       "      <th>Mean</th>\n",
       "      <th>Median</th>\n",
       "      <th>Var</th>\n",
       "      <th>Std</th>\n",
       "      <th>Sem</th>\n",
       "    </tr>\n",
       "    <tr>\n",
       "      <th>Pos</th>\n",
       "      <th></th>\n",
       "      <th></th>\n",
       "      <th></th>\n",
       "      <th></th>\n",
       "      <th></th>\n",
       "    </tr>\n",
       "  </thead>\n",
       "  <tbody>\n",
       "    <tr>\n",
       "      <th>K</th>\n",
       "      <td>4.910984</td>\n",
       "      <td>4.920</td>\n",
       "      <td>0.022479</td>\n",
       "      <td>0.149930</td>\n",
       "      <td>0.019197</td>\n",
       "    </tr>\n",
       "    <tr>\n",
       "      <th>QB</th>\n",
       "      <td>4.822443</td>\n",
       "      <td>4.820</td>\n",
       "      <td>0.030396</td>\n",
       "      <td>0.174345</td>\n",
       "      <td>0.008795</td>\n",
       "    </tr>\n",
       "    <tr>\n",
       "      <th>RB</th>\n",
       "      <td>4.555108</td>\n",
       "      <td>4.560</td>\n",
       "      <td>0.011772</td>\n",
       "      <td>0.108500</td>\n",
       "      <td>0.004262</td>\n",
       "    </tr>\n",
       "    <tr>\n",
       "      <th>TE</th>\n",
       "      <td>4.769167</td>\n",
       "      <td>4.775</td>\n",
       "      <td>0.020625</td>\n",
       "      <td>0.143614</td>\n",
       "      <td>0.007217</td>\n",
       "    </tr>\n",
       "    <tr>\n",
       "      <th>WR</th>\n",
       "      <td>4.511437</td>\n",
       "      <td>4.510</td>\n",
       "      <td>0.010403</td>\n",
       "      <td>0.101997</td>\n",
       "      <td>0.003200</td>\n",
       "    </tr>\n",
       "  </tbody>\n",
       "</table>\n",
       "</div>"
      ],
      "text/plain": [
       "         Mean  Median       Var       Std       Sem\n",
       "Pos                                                \n",
       "K    4.910984   4.920  0.022479  0.149930  0.019197\n",
       "QB   4.822443   4.820  0.030396  0.174345  0.008795\n",
       "RB   4.555108   4.560  0.011772  0.108500  0.004262\n",
       "TE   4.769167   4.775  0.020625  0.143614  0.007217\n",
       "WR   4.511437   4.510  0.010403  0.101997  0.003200"
      ]
     },
     "execution_count": 96,
     "metadata": {},
     "output_type": "execute_result"
    }
   ],
   "source": [
    "summary_40yd = pd.DataFrame({\n",
    "    'Mean': combine_pos_40yd_mean,\n",
    "    'Median': combine_pos_40yd_median,\n",
    "    'Var': combine_pos_40yd_var,\n",
    "    'Std': combine_pos_40yd_std,\n",
    "    'Sem': combine_pos_40yd_sem})\n",
    "\n",
    "summary_40yd"
   ]
  },
  {
   "cell_type": "code",
   "execution_count": 97,
   "metadata": {},
   "outputs": [],
   "source": [
    "combine_pos_filtered['Vertical'] = combine_pos_filtered['Vertical'].replace(0.0, pd.NA)\n",
    "combine_pos_filtered['Vertical'] = pd.to_numeric(combine_pos_filtered['Vertical'], errors='coerce')\n",
    "combine_pos_clean = combine_pos_filtered.dropna(subset=['Vertical'])"
   ]
  },
  {
   "cell_type": "code",
   "execution_count": 98,
   "metadata": {},
   "outputs": [
    {
     "data": {
      "text/plain": [
       "Unnamed: 0    2067\n",
       "Player        2067\n",
       "Pos           2067\n",
       "School        2067\n",
       "Ht            2067\n",
       "Wt            2067\n",
       "40yd          2067\n",
       "Vertical      2067\n",
       "Bench         2067\n",
       "Broad Jump    2067\n",
       "3Cone         2067\n",
       "Shuttle       2067\n",
       "dtype: int64"
      ]
     },
     "execution_count": 98,
     "metadata": {},
     "output_type": "execute_result"
    }
   ],
   "source": [
    "combine_pos_clean.count()"
   ]
  },
  {
   "cell_type": "code",
   "execution_count": 99,
   "metadata": {},
   "outputs": [],
   "source": [
    "combine_pos_vertical_mean = combine_pos['Vertical'].mean()\n",
    "combine_pos_vertical_median = combine_pos['Vertical'].median()\n",
    "combine_pos_vertical_var = combine_pos['Vertical'].var()\n",
    "combine_pos_vertical_std = combine_pos['Vertical'].std()\n",
    "combine_pos_vertical_sem = combine_pos['Vertical'].sem()"
   ]
  },
  {
   "cell_type": "code",
   "execution_count": 100,
   "metadata": {},
   "outputs": [
    {
     "data": {
      "text/html": [
       "<div>\n",
       "<style scoped>\n",
       "    .dataframe tbody tr th:only-of-type {\n",
       "        vertical-align: middle;\n",
       "    }\n",
       "\n",
       "    .dataframe tbody tr th {\n",
       "        vertical-align: top;\n",
       "    }\n",
       "\n",
       "    .dataframe thead th {\n",
       "        text-align: right;\n",
       "    }\n",
       "</style>\n",
       "<table border=\"1\" class=\"dataframe\">\n",
       "  <thead>\n",
       "    <tr style=\"text-align: right;\">\n",
       "      <th></th>\n",
       "      <th>Mean</th>\n",
       "      <th>Median</th>\n",
       "      <th>Var</th>\n",
       "      <th>Std</th>\n",
       "      <th>Sem</th>\n",
       "    </tr>\n",
       "    <tr>\n",
       "      <th>Pos</th>\n",
       "      <th></th>\n",
       "      <th></th>\n",
       "      <th></th>\n",
       "      <th></th>\n",
       "      <th></th>\n",
       "    </tr>\n",
       "  </thead>\n",
       "  <tbody>\n",
       "    <tr>\n",
       "      <th>K</th>\n",
       "      <td>33.500000</td>\n",
       "      <td>33.5</td>\n",
       "      <td>NaN</td>\n",
       "      <td>NaN</td>\n",
       "      <td>NaN</td>\n",
       "    </tr>\n",
       "    <tr>\n",
       "      <th>QB</th>\n",
       "      <td>31.185075</td>\n",
       "      <td>31.0</td>\n",
       "      <td>9.992591</td>\n",
       "      <td>3.161106</td>\n",
       "      <td>0.172710</td>\n",
       "    </tr>\n",
       "    <tr>\n",
       "      <th>RB</th>\n",
       "      <td>34.362976</td>\n",
       "      <td>34.0</td>\n",
       "      <td>9.181645</td>\n",
       "      <td>3.030123</td>\n",
       "      <td>0.129088</td>\n",
       "    </tr>\n",
       "    <tr>\n",
       "      <th>TE</th>\n",
       "      <td>33.003106</td>\n",
       "      <td>33.0</td>\n",
       "      <td>10.693137</td>\n",
       "      <td>3.270036</td>\n",
       "      <td>0.182232</td>\n",
       "    </tr>\n",
       "    <tr>\n",
       "      <th>WR</th>\n",
       "      <td>35.326340</td>\n",
       "      <td>35.5</td>\n",
       "      <td>9.892794</td>\n",
       "      <td>3.145281</td>\n",
       "      <td>0.107378</td>\n",
       "    </tr>\n",
       "  </tbody>\n",
       "</table>\n",
       "</div>"
      ],
      "text/plain": [
       "          Mean  Median        Var       Std       Sem\n",
       "Pos                                                  \n",
       "K    33.500000    33.5        NaN       NaN       NaN\n",
       "QB   31.185075    31.0   9.992591  3.161106  0.172710\n",
       "RB   34.362976    34.0   9.181645  3.030123  0.129088\n",
       "TE   33.003106    33.0  10.693137  3.270036  0.182232\n",
       "WR   35.326340    35.5   9.892794  3.145281  0.107378"
      ]
     },
     "execution_count": 100,
     "metadata": {},
     "output_type": "execute_result"
    }
   ],
   "source": [
    "summary_vertical = pd.DataFrame({\n",
    "    'Mean': combine_pos_vertical_mean,\n",
    "    'Median': combine_pos_vertical_median,\n",
    "    'Var': combine_pos_vertical_var,\n",
    "    'Std': combine_pos_vertical_std,\n",
    "    'Sem': combine_pos_vertical_sem})\n",
    "\n",
    "summary_vertical"
   ]
  },
  {
   "cell_type": "code",
   "execution_count": 101,
   "metadata": {},
   "outputs": [],
   "source": [
    "combine_pos_filtered['Bench'] = combine_pos_filtered['Bench'].replace(0.0, pd.NA)\n",
    "combine_pos_filtered['Bench'] = pd.to_numeric(combine_pos_filtered['Bench'], errors='coerce')\n",
    "combine_pos_filtered = combine_pos_filtered.dropna(subset=['Bench'])"
   ]
  },
  {
   "cell_type": "code",
   "execution_count": 102,
   "metadata": {},
   "outputs": [],
   "source": [
    "combine_pos_bench_mean = combine_pos['Bench'].mean()\n",
    "combine_pos_bench_median = combine_pos['Bench'].median()\n",
    "combine_pos_bench_var = combine_pos['Bench'].var()\n",
    "combine_pos_bench_std = combine_pos['Bench'].std()\n",
    "combine_pos_bench_sem = combine_pos['Bench'].sem()"
   ]
  },
  {
   "cell_type": "code",
   "execution_count": 103,
   "metadata": {},
   "outputs": [
    {
     "data": {
      "text/html": [
       "<div>\n",
       "<style scoped>\n",
       "    .dataframe tbody tr th:only-of-type {\n",
       "        vertical-align: middle;\n",
       "    }\n",
       "\n",
       "    .dataframe tbody tr th {\n",
       "        vertical-align: top;\n",
       "    }\n",
       "\n",
       "    .dataframe thead th {\n",
       "        text-align: right;\n",
       "    }\n",
       "</style>\n",
       "<table border=\"1\" class=\"dataframe\">\n",
       "  <thead>\n",
       "    <tr style=\"text-align: right;\">\n",
       "      <th></th>\n",
       "      <th>Mean</th>\n",
       "      <th>Median</th>\n",
       "      <th>Var</th>\n",
       "      <th>Std</th>\n",
       "      <th>Sem</th>\n",
       "    </tr>\n",
       "    <tr>\n",
       "      <th>Pos</th>\n",
       "      <th></th>\n",
       "      <th></th>\n",
       "      <th></th>\n",
       "      <th></th>\n",
       "      <th></th>\n",
       "    </tr>\n",
       "  </thead>\n",
       "  <tbody>\n",
       "    <tr>\n",
       "      <th>K</th>\n",
       "      <td>17.333333</td>\n",
       "      <td>14.0</td>\n",
       "      <td>44.333333</td>\n",
       "      <td>6.658328</td>\n",
       "      <td>3.844188</td>\n",
       "    </tr>\n",
       "    <tr>\n",
       "      <th>QB</th>\n",
       "      <td>19.300000</td>\n",
       "      <td>19.5</td>\n",
       "      <td>16.326316</td>\n",
       "      <td>4.040584</td>\n",
       "      <td>0.903502</td>\n",
       "    </tr>\n",
       "    <tr>\n",
       "      <th>RB</th>\n",
       "      <td>19.334711</td>\n",
       "      <td>19.0</td>\n",
       "      <td>21.051298</td>\n",
       "      <td>4.588169</td>\n",
       "      <td>0.208553</td>\n",
       "    </tr>\n",
       "    <tr>\n",
       "      <th>TE</th>\n",
       "      <td>20.160883</td>\n",
       "      <td>20.0</td>\n",
       "      <td>19.401250</td>\n",
       "      <td>4.404685</td>\n",
       "      <td>0.247392</td>\n",
       "    </tr>\n",
       "    <tr>\n",
       "      <th>WR</th>\n",
       "      <td>14.571138</td>\n",
       "      <td>14.0</td>\n",
       "      <td>17.092689</td>\n",
       "      <td>4.134331</td>\n",
       "      <td>0.186390</td>\n",
       "    </tr>\n",
       "  </tbody>\n",
       "</table>\n",
       "</div>"
      ],
      "text/plain": [
       "          Mean  Median        Var       Std       Sem\n",
       "Pos                                                  \n",
       "K    17.333333    14.0  44.333333  6.658328  3.844188\n",
       "QB   19.300000    19.5  16.326316  4.040584  0.903502\n",
       "RB   19.334711    19.0  21.051298  4.588169  0.208553\n",
       "TE   20.160883    20.0  19.401250  4.404685  0.247392\n",
       "WR   14.571138    14.0  17.092689  4.134331  0.186390"
      ]
     },
     "execution_count": 103,
     "metadata": {},
     "output_type": "execute_result"
    }
   ],
   "source": [
    "summary_bench = pd.DataFrame({\n",
    "    'Mean': combine_pos_bench_mean,\n",
    "    'Median': combine_pos_bench_median,\n",
    "    'Var': combine_pos_bench_var,\n",
    "    'Std': combine_pos_bench_std,\n",
    "    'Sem': combine_pos_bench_sem})\n",
    "\n",
    "summary_bench"
   ]
  },
  {
   "cell_type": "code",
   "execution_count": 104,
   "metadata": {},
   "outputs": [
    {
     "name": "stderr",
     "output_type": "stream",
     "text": [
      "C:\\Users\\mjeow\\AppData\\Local\\Temp\\ipykernel_15492\\3798014976.py:1: SettingWithCopyWarning: \n",
      "A value is trying to be set on a copy of a slice from a DataFrame.\n",
      "Try using .loc[row_indexer,col_indexer] = value instead\n",
      "\n",
      "See the caveats in the documentation: https://pandas.pydata.org/pandas-docs/stable/user_guide/indexing.html#returning-a-view-versus-a-copy\n",
      "  combine_pos_filtered['Broad Jump'] = combine_pos_filtered['Broad Jump'].replace(0.0, pd.NA)\n",
      "C:\\Users\\mjeow\\AppData\\Local\\Temp\\ipykernel_15492\\3798014976.py:2: SettingWithCopyWarning: \n",
      "A value is trying to be set on a copy of a slice from a DataFrame.\n",
      "Try using .loc[row_indexer,col_indexer] = value instead\n",
      "\n",
      "See the caveats in the documentation: https://pandas.pydata.org/pandas-docs/stable/user_guide/indexing.html#returning-a-view-versus-a-copy\n",
      "  combine_pos_filtered['Broad Jump'] = pd.to_numeric(combine_pos_filtered['Broad Jump'], errors='coerce')\n"
     ]
    }
   ],
   "source": [
    "combine_pos_filtered['Broad Jump'] = combine_pos_filtered['Broad Jump'].replace(0.0, pd.NA)\n",
    "combine_pos_filtered['Broad Jump'] = pd.to_numeric(combine_pos_filtered['Broad Jump'], errors='coerce')\n",
    "combine_pos_filtered = combine_pos_filtered.dropna(subset=['Broad Jump'])"
   ]
  },
  {
   "cell_type": "code",
   "execution_count": 105,
   "metadata": {},
   "outputs": [
    {
     "data": {
      "text/plain": [
       "Pos\n",
       "K      3.721311\n",
       "QB    94.768448\n",
       "RB    98.797840\n",
       "TE    92.116162\n",
       "WR    99.361220\n",
       "Name: Broad Jump, dtype: float64"
      ]
     },
     "execution_count": 105,
     "metadata": {},
     "output_type": "execute_result"
    }
   ],
   "source": [
    "combine_pos_broad_mean = combine_pos['Broad Jump'].mean()\n",
    "combine_pos_broad_mean\n"
   ]
  },
  {
   "cell_type": "code",
   "execution_count": 106,
   "metadata": {},
   "outputs": [],
   "source": [
    "combine_pos_filtered['3Cone'] = combine_pos_filtered['3Cone'].replace(0.0, pd.NA)\n",
    "combine_pos_filtered['3Cone'] = pd.to_numeric(combine_pos_filtered['3Cone'], errors='coerce')\n",
    "combine_pos_filtered = combine_pos_filtered.dropna(subset=['3Cone'])"
   ]
  },
  {
   "cell_type": "code",
   "execution_count": 107,
   "metadata": {},
   "outputs": [
    {
     "data": {
      "text/plain": [
       "Pos\n",
       "K     0.000000\n",
       "QB    5.750102\n",
       "RB    4.036373\n",
       "TE    5.103990\n",
       "WR    4.585138\n",
       "Name: 3Cone, dtype: float64"
      ]
     },
     "execution_count": 107,
     "metadata": {},
     "output_type": "execute_result"
    }
   ],
   "source": [
    "\n",
    "combine_pos_3Cone_mean = combine_pos['3Cone'].mean()\n",
    "combine_pos_3Cone_mean"
   ]
  },
  {
   "cell_type": "code",
   "execution_count": 108,
   "metadata": {},
   "outputs": [],
   "source": [
    "combine_pos_filtered['Shuttle'] = combine_pos_filtered['Shuttle'].replace(0.0, pd.NA)\n",
    "combine_pos_filtered['Shuttle'] = pd.to_numeric(combine_pos_filtered['Shuttle'], errors='coerce')\n",
    "combine_pos_filtered = combine_pos_filtered.dropna(subset=['Shuttle'])"
   ]
  },
  {
   "cell_type": "code",
   "execution_count": 109,
   "metadata": {},
   "outputs": [
    {
     "data": {
      "text/plain": [
       "Pos\n",
       "K     0.000000\n",
       "QB    3.549389\n",
       "RB    2.466204\n",
       "TE    3.122424\n",
       "WR    2.849154\n",
       "Name: Shuttle, dtype: float64"
      ]
     },
     "execution_count": 109,
     "metadata": {},
     "output_type": "execute_result"
    }
   ],
   "source": [
    "combine_pos_shuttle_mean = combine_pos['Shuttle'].mean()\n",
    "combine_pos_shuttle_mean"
   ]
  },
  {
   "cell_type": "code",
   "execution_count": 110,
   "metadata": {},
   "outputs": [
    {
     "data": {
      "text/html": [
       "<div>\n",
       "<style scoped>\n",
       "    .dataframe tbody tr th:only-of-type {\n",
       "        vertical-align: middle;\n",
       "    }\n",
       "\n",
       "    .dataframe tbody tr th {\n",
       "        vertical-align: top;\n",
       "    }\n",
       "\n",
       "    .dataframe thead th {\n",
       "        text-align: right;\n",
       "    }\n",
       "</style>\n",
       "<table border=\"1\" class=\"dataframe\">\n",
       "  <thead>\n",
       "    <tr style=\"text-align: right;\">\n",
       "      <th></th>\n",
       "      <th>40 Yd</th>\n",
       "      <th>Bench</th>\n",
       "      <th>Vertical</th>\n",
       "      <th>Broad Jump</th>\n",
       "      <th>3 Cone</th>\n",
       "      <th>Shuttle</th>\n",
       "    </tr>\n",
       "    <tr>\n",
       "      <th>Pos</th>\n",
       "      <th></th>\n",
       "      <th></th>\n",
       "      <th></th>\n",
       "      <th></th>\n",
       "      <th></th>\n",
       "      <th></th>\n",
       "    </tr>\n",
       "  </thead>\n",
       "  <tbody>\n",
       "    <tr>\n",
       "      <th>K</th>\n",
       "      <td>4.910984</td>\n",
       "      <td>17.333333</td>\n",
       "      <td>33.500000</td>\n",
       "      <td>3.721311</td>\n",
       "      <td>0.000000</td>\n",
       "      <td>0.000000</td>\n",
       "    </tr>\n",
       "    <tr>\n",
       "      <th>QB</th>\n",
       "      <td>4.822443</td>\n",
       "      <td>19.300000</td>\n",
       "      <td>31.185075</td>\n",
       "      <td>94.768448</td>\n",
       "      <td>5.750102</td>\n",
       "      <td>3.549389</td>\n",
       "    </tr>\n",
       "    <tr>\n",
       "      <th>RB</th>\n",
       "      <td>4.555108</td>\n",
       "      <td>19.334711</td>\n",
       "      <td>34.362976</td>\n",
       "      <td>98.797840</td>\n",
       "      <td>4.036373</td>\n",
       "      <td>2.466204</td>\n",
       "    </tr>\n",
       "    <tr>\n",
       "      <th>TE</th>\n",
       "      <td>4.769167</td>\n",
       "      <td>20.160883</td>\n",
       "      <td>33.003106</td>\n",
       "      <td>92.116162</td>\n",
       "      <td>5.103990</td>\n",
       "      <td>3.122424</td>\n",
       "    </tr>\n",
       "    <tr>\n",
       "      <th>WR</th>\n",
       "      <td>4.511437</td>\n",
       "      <td>14.571138</td>\n",
       "      <td>35.326340</td>\n",
       "      <td>99.361220</td>\n",
       "      <td>4.585138</td>\n",
       "      <td>2.849154</td>\n",
       "    </tr>\n",
       "  </tbody>\n",
       "</table>\n",
       "</div>"
      ],
      "text/plain": [
       "        40 Yd      Bench   Vertical  Broad Jump    3 Cone   Shuttle\n",
       "Pos                                                                \n",
       "K    4.910984  17.333333  33.500000    3.721311  0.000000  0.000000\n",
       "QB   4.822443  19.300000  31.185075   94.768448  5.750102  3.549389\n",
       "RB   4.555108  19.334711  34.362976   98.797840  4.036373  2.466204\n",
       "TE   4.769167  20.160883  33.003106   92.116162  5.103990  3.122424\n",
       "WR   4.511437  14.571138  35.326340   99.361220  4.585138  2.849154"
      ]
     },
     "execution_count": 110,
     "metadata": {},
     "output_type": "execute_result"
    }
   ],
   "source": [
    "summary_mean_pos = pd.DataFrame({\n",
    "    '40 Yd': combine_pos_40yd_mean,\n",
    "    'Bench': combine_pos_bench_mean,\n",
    "    'Vertical': combine_pos_vertical_mean,\n",
    "    'Broad Jump': combine_pos_broad_mean,\n",
    "    '3 Cone': combine_pos_3Cone_mean,\n",
    "    'Shuttle': combine_pos_shuttle_mean })\n",
    "\n",
    "summary_mean_pos"
   ]
  },
  {
   "cell_type": "code",
   "execution_count": 111,
   "metadata": {},
   "outputs": [
    {
     "data": {
      "image/png": "[encoded data removed]",
      "text/plain": [
       "<Figure size 1000x600 with 1 Axes>"
      ]
     },
     "metadata": {},
     "output_type": "display_data"
    }
   ],
   "source": [
    "import matplotlib.pyplot as plt\n",
    "import pandas as pd\n",
    "import numpy as np\n",
    "\n",
    "# Sample data (replace this with your actual data)\n",
    "data = {\n",
    "    'Position': ['K', 'QB', 'RB', 'TE', 'WR'],\n",
    "    '40yd': [np.nan, 4.818462, 4.559631, 4.766500, 4.511582],\n",
    "    'Bench': [17.333333, 19.3, 19.334711, 20.160883, 14.571138],\n",
    "    'Vertical': [33.5, 31.185075, 34.362976, 33.003106, 35.32634],\n",
    "    'Broad Jump': [np.nan, 113.0, 118.050336, 114.895833, 121.079096],\n",
    "    '3 Cone': [np.nan, 7.151538, 7.071409, 7.184917, 6.956186],\n",
    "    'Shuttle': [np.nan, 4.358462, 4.272651, 4.363167, 4.259435]\n",
    "}\n",
    "\n",
    "df = pd.DataFrame(data)\n",
    "positions = df['Position']\n",
    "metrics = df.columns[1:]\n",
    "\n",
    "# Plotting\n",
    "fig, ax = plt.subplots(figsize=(10, 6))\n",
    "\n",
    "bar_width = 0.15\n",
    "bar_positions = np.arange(len(positions))\n",
    "\n",
    "for i, metric in enumerate(metrics):\n",
    "    bars = ax.bar(bar_positions + i * bar_width, df[metric], bar_width, label=metric)\n",
    "\n",
    "# Customize the chart\n",
    "ax.set_xticks(bar_positions + 2 * bar_width)\n",
    "ax.set_xticklabels(positions)\n",
    "ax.legend()\n",
    "ax.set_xlabel('Position')\n",
    "ax.set_ylabel('Mean Value')\n",
    "ax.set_title('Mean Combine Metrics by Position')\n",
    "\n",
    "# Show the plot\n",
    "plt.tight_layout()\n",
    "plt.show()\n"
   ]
  },
  {
   "cell_type": "code",
   "execution_count": null,
   "metadata": {},
   "outputs": [],
   "source": []
  },
  {
   "cell_type": "code",
   "execution_count": null,
   "metadata": {},
   "outputs": [],
   "source": []
  }
 ],
 "metadata": {
  "kernelspec": {
   "display_name": "base",
   "language": "python",
   "name": "python3"
  },
  "language_info": {
   "codemirror_mode": {
    "name": "ipython",
    "version": 3
   },
   "file_extension": ".py",
   "mimetype": "text/x-python",
   "name": "python",
   "nbconvert_exporter": "python",
   "pygments_lexer": "ipython3",
   "version": "3.11.5"
  }
 },
 "nbformat": 4,
 "nbformat_minor": 2
}
